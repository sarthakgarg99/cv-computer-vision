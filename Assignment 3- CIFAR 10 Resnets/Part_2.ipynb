{
  "nbformat": 4,
  "nbformat_minor": 0,
  "metadata": {
    "accelerator": "GPU",
    "colab": {
      "name": "Part 2.ipynb",
      "provenance": [],
      "collapsed_sections": []
    },
    "kernelspec": {
      "display_name": "Python 3",
      "name": "python3"
    },
    "widgets": {
      "application/vnd.jupyter.widget-state+json": {
        "7f510d3b1719425db2ebe572b5ce1ca0": {
          "model_module": "@jupyter-widgets/controls",
          "model_name": "HBoxModel",
          "state": {
            "_view_name": "HBoxView",
            "_dom_classes": [],
            "_model_name": "HBoxModel",
            "_view_module": "@jupyter-widgets/controls",
            "_model_module_version": "1.5.0",
            "_view_count": null,
            "_view_module_version": "1.5.0",
            "box_style": "",
            "layout": "IPY_MODEL_aa630b5951384101a74eefa379f72738",
            "_model_module": "@jupyter-widgets/controls",
            "children": [
              "IPY_MODEL_22f2a9d045b6472eb04c817a6c61dfe6",
              "IPY_MODEL_e1487771bc9f4324a1b3b5438db480fa"
            ]
          }
        },
        "aa630b5951384101a74eefa379f72738": {
          "model_module": "@jupyter-widgets/base",
          "model_name": "LayoutModel",
          "state": {
            "_view_name": "LayoutView",
            "grid_template_rows": null,
            "right": null,
            "justify_content": null,
            "_view_module": "@jupyter-widgets/base",
            "overflow": null,
            "_model_module_version": "1.2.0",
            "_view_count": null,
            "flex_flow": null,
            "width": null,
            "min_width": null,
            "border": null,
            "align_items": null,
            "bottom": null,
            "_model_module": "@jupyter-widgets/base",
            "top": null,
            "grid_column": null,
            "overflow_y": null,
            "overflow_x": null,
            "grid_auto_flow": null,
            "grid_area": null,
            "grid_template_columns": null,
            "flex": null,
            "_model_name": "LayoutModel",
            "justify_items": null,
            "grid_row": null,
            "max_height": null,
            "align_content": null,
            "visibility": null,
            "align_self": null,
            "height": null,
            "min_height": null,
            "padding": null,
            "grid_auto_rows": null,
            "grid_gap": null,
            "max_width": null,
            "order": null,
            "_view_module_version": "1.2.0",
            "grid_template_areas": null,
            "object_position": null,
            "object_fit": null,
            "grid_auto_columns": null,
            "margin": null,
            "display": null,
            "left": null
          }
        },
        "22f2a9d045b6472eb04c817a6c61dfe6": {
          "model_module": "@jupyter-widgets/controls",
          "model_name": "FloatProgressModel",
          "state": {
            "_view_name": "ProgressView",
            "style": "IPY_MODEL_f008d1df371e400db94c7e924ff06501",
            "_dom_classes": [],
            "description": "",
            "_model_name": "FloatProgressModel",
            "bar_style": "info",
            "max": 1,
            "_view_module": "@jupyter-widgets/controls",
            "_model_module_version": "1.5.0",
            "value": 1,
            "_view_count": null,
            "_view_module_version": "1.5.0",
            "orientation": "horizontal",
            "min": 0,
            "description_tooltip": null,
            "_model_module": "@jupyter-widgets/controls",
            "layout": "IPY_MODEL_1710ffdfed074e45b6e5b1f18b141c66"
          }
        },
        "e1487771bc9f4324a1b3b5438db480fa": {
          "model_module": "@jupyter-widgets/controls",
          "model_name": "HTMLModel",
          "state": {
            "_view_name": "HTMLView",
            "style": "IPY_MODEL_28c3bbb3dfc04979bc517c3d0ecce2d5",
            "_dom_classes": [],
            "description": "",
            "_model_name": "HTMLModel",
            "placeholder": "​",
            "_view_module": "@jupyter-widgets/controls",
            "_model_module_version": "1.5.0",
            "value": " 170500096/? [00:20&lt;00:00, 49703184.60it/s]",
            "_view_count": null,
            "_view_module_version": "1.5.0",
            "description_tooltip": null,
            "_model_module": "@jupyter-widgets/controls",
            "layout": "IPY_MODEL_6c6515bf4c2b4e0181ed78454113bfa4"
          }
        },
        "f008d1df371e400db94c7e924ff06501": {
          "model_module": "@jupyter-widgets/controls",
          "model_name": "ProgressStyleModel",
          "state": {
            "_view_name": "StyleView",
            "_model_name": "ProgressStyleModel",
            "description_width": "initial",
            "_view_module": "@jupyter-widgets/base",
            "_model_module_version": "1.5.0",
            "_view_count": null,
            "_view_module_version": "1.2.0",
            "bar_color": null,
            "_model_module": "@jupyter-widgets/controls"
          }
        },
        "1710ffdfed074e45b6e5b1f18b141c66": {
          "model_module": "@jupyter-widgets/base",
          "model_name": "LayoutModel",
          "state": {
            "_view_name": "LayoutView",
            "grid_template_rows": null,
            "right": null,
            "justify_content": null,
            "_view_module": "@jupyter-widgets/base",
            "overflow": null,
            "_model_module_version": "1.2.0",
            "_view_count": null,
            "flex_flow": null,
            "width": null,
            "min_width": null,
            "border": null,
            "align_items": null,
            "bottom": null,
            "_model_module": "@jupyter-widgets/base",
            "top": null,
            "grid_column": null,
            "overflow_y": null,
            "overflow_x": null,
            "grid_auto_flow": null,
            "grid_area": null,
            "grid_template_columns": null,
            "flex": null,
            "_model_name": "LayoutModel",
            "justify_items": null,
            "grid_row": null,
            "max_height": null,
            "align_content": null,
            "visibility": null,
            "align_self": null,
            "height": null,
            "min_height": null,
            "padding": null,
            "grid_auto_rows": null,
            "grid_gap": null,
            "max_width": null,
            "order": null,
            "_view_module_version": "1.2.0",
            "grid_template_areas": null,
            "object_position": null,
            "object_fit": null,
            "grid_auto_columns": null,
            "margin": null,
            "display": null,
            "left": null
          }
        },
        "28c3bbb3dfc04979bc517c3d0ecce2d5": {
          "model_module": "@jupyter-widgets/controls",
          "model_name": "DescriptionStyleModel",
          "state": {
            "_view_name": "StyleView",
            "_model_name": "DescriptionStyleModel",
            "description_width": "",
            "_view_module": "@jupyter-widgets/base",
            "_model_module_version": "1.5.0",
            "_view_count": null,
            "_view_module_version": "1.2.0",
            "_model_module": "@jupyter-widgets/controls"
          }
        },
        "6c6515bf4c2b4e0181ed78454113bfa4": {
          "model_module": "@jupyter-widgets/base",
          "model_name": "LayoutModel",
          "state": {
            "_view_name": "LayoutView",
            "grid_template_rows": null,
            "right": null,
            "justify_content": null,
            "_view_module": "@jupyter-widgets/base",
            "overflow": null,
            "_model_module_version": "1.2.0",
            "_view_count": null,
            "flex_flow": null,
            "width": null,
            "min_width": null,
            "border": null,
            "align_items": null,
            "bottom": null,
            "_model_module": "@jupyter-widgets/base",
            "top": null,
            "grid_column": null,
            "overflow_y": null,
            "overflow_x": null,
            "grid_auto_flow": null,
            "grid_area": null,
            "grid_template_columns": null,
            "flex": null,
            "_model_name": "LayoutModel",
            "justify_items": null,
            "grid_row": null,
            "max_height": null,
            "align_content": null,
            "visibility": null,
            "align_self": null,
            "height": null,
            "min_height": null,
            "padding": null,
            "grid_auto_rows": null,
            "grid_gap": null,
            "max_width": null,
            "order": null,
            "_view_module_version": "1.2.0",
            "grid_template_areas": null,
            "object_position": null,
            "object_fit": null,
            "grid_auto_columns": null,
            "margin": null,
            "display": null,
            "left": null
          }
        }
      }
    }
  },
  "cells": [
    {
      "cell_type": "code",
      "metadata": {
        "id": "araVwP7NBa7b"
      },
      "source": [
        "#importing required model\n",
        "\n",
        "import torch\n",
        "import torchvision\n",
        "import torchvision.transforms as transforms\n",
        "import matplotlib.pyplot as plt\n",
        "import numpy as np\n",
        "import torch.optim as optim\n",
        "from torch.optim import lr_scheduler\n",
        "import torch.nn as nn\n",
        "import torch.optim as optim\n",
        "from torch.optim import lr_scheduler\n",
        "import numpy as np\n",
        "from torchvision import datasets, models, transforms\n",
        "import matplotlib.pyplot as plt\n",
        "from torch.utils.data import random_split\n",
        "from torchvision.transforms import ToTensor\n",
        "import time\n",
        "import copy"
      ],
      "execution_count": null,
      "outputs": []
    },
    {
      "cell_type": "code",
      "metadata": {
        "id": "TArkf47kKIrt"
      },
      "source": [
        ""
      ],
      "execution_count": null,
      "outputs": []
    },
    {
      "cell_type": "markdown",
      "metadata": {
        "id": "nMBWXg9PeOeY"
      },
      "source": [
        "# Leading the CIFAR10 dataset"
      ]
    },
    {
      "cell_type": "code",
      "metadata": {
        "colab": {
          "base_uri": "https://localhost:8080/",
          "height": 100,
          "referenced_widgets": [
            "7f510d3b1719425db2ebe572b5ce1ca0",
            "aa630b5951384101a74eefa379f72738",
            "22f2a9d045b6472eb04c817a6c61dfe6",
            "e1487771bc9f4324a1b3b5438db480fa",
            "f008d1df371e400db94c7e924ff06501",
            "1710ffdfed074e45b6e5b1f18b141c66",
            "28c3bbb3dfc04979bc517c3d0ecce2d5",
            "6c6515bf4c2b4e0181ed78454113bfa4"
          ]
        },
        "id": "prvpIe1VaBQz",
        "outputId": "374cb3c8-9040-484b-f60b-1292b91250bb"
      },
      "source": [
        "# importing data sets \n",
        "torch.manual_seed(43)\n",
        "\n",
        "transform = transforms.Compose(\n",
        "    [transforms.ToTensor(),\n",
        "     transforms.Normalize([0.485, 0.456, 0.406], [0.229, 0.224, 0.225])])\n",
        "\n",
        "dataset = torchvision.datasets.CIFAR10(root='./data', train=True, download=True, transform=transform)\n",
        "train_X, val_X = random_split(dataset, [40000, 10000])\n",
        "test_ds = torchvision.datasets.CIFAR10(root='./data', train=False, download=True, transform=transform)\n",
        "\n",
        "image_datasets = {'train': train_X, 'val': val_X, 'test': test_ds}\n",
        "\n",
        "batch_size = 128\n",
        "train_loader = torch.utils.data.DataLoader(train_X, batch_size, shuffle=True, num_workers=4, pin_memory=True)\n",
        "val_loader = torch.utils.data.DataLoader(val_X, batch_size*2, num_workers=4, pin_memory=True)\n",
        "test_loader = torch.utils.data.DataLoader(test_ds, batch_size*2, num_workers=4, pin_memory=True)\n",
        "\n",
        "dataloaders = {'train': train_loader, 'val': val_loader, 'test': test_loader}\n",
        "dataset_sizes = {x: len(image_datasets[x]) for x in ['train', 'val', 'test']}\n",
        "\n",
        "device = torch.device(\"cuda:0\" if torch.cuda.is_available() else \"cpu\")\n",
        "\n",
        "\n"
      ],
      "execution_count": null,
      "outputs": [
        {
          "output_type": "stream",
          "text": [
            "Downloading https://www.cs.toronto.edu/~kriz/cifar-10-python.tar.gz to ./data/cifar-10-python.tar.gz\n"
          ],
          "name": "stdout"
        },
        {
          "output_type": "display_data",
          "data": {
            "application/vnd.jupyter.widget-view+json": {
              "model_id": "7f510d3b1719425db2ebe572b5ce1ca0",
              "version_minor": 0,
              "version_major": 2
            },
            "text/plain": [
              "HBox(children=(FloatProgress(value=1.0, bar_style='info', max=1.0), HTML(value='')))"
            ]
          },
          "metadata": {
            "tags": []
          }
        },
        {
          "output_type": "stream",
          "text": [
            "Extracting ./data/cifar-10-python.tar.gz to ./data\n",
            "Files already downloaded and verified\n"
          ],
          "name": "stdout"
        }
      ]
    },
    {
      "cell_type": "markdown",
      "metadata": {
        "id": "mmk32lyXegB9"
      },
      "source": [
        "# **Part 1**"
      ]
    },
    {
      "cell_type": "code",
      "metadata": {
        "id": "cEtasJNVQnKg"
      },
      "source": [
        "\n",
        "\n",
        "def train_model(model, criterion, optimizer, scheduler, ne, as, ls):\n",
        "    since = time.time()\n",
        "\n",
        "    best_model_wts = copy.deepcopy(model.state_dict())\n",
        "    best_acc = 0.0\n",
        "\n",
        "    for epoch in range(ne):\n",
        "        print('Epoch {}/{}'.format(epoch, ne - 1))\n",
        "        print('-' * 10)\n",
        "\n",
        "        for phase in ['train', 'val']:\n",
        "            if phase == 'train':\n",
        "                model.train() \n",
        "            else:\n",
        "                model.eval()\n",
        "\n",
        "            loss_run = 0.0\n",
        "            running_corrects = 0\n",
        "\n",
        "            for inputs, labels in dataloaders[phase]:\n",
        "                inputs = inputs.to(device)\n",
        "                labels = labels.to(device)\n",
        "\n",
        "                optimizer.zero_grad()\n",
        "\n",
        "                with torch.set_grad_enabled(phase == 'train'):\n",
        "                    outputs = model(inputs)\n",
        "                    _, preds = torch.max(outputs, 1)\n",
        "                    loss = criterion(outputs, labels)\n",
        "\n",
        "                    if phase == 'train':\n",
        "                        loss.backward()\n",
        "                        optimizer.step()\n",
        "\n",
        "                loss_run += loss.item() * inputs.size(0)\n",
        "                running_corrects += torch.sum(preds == labels.data)\n",
        "            if phase == 'train':\n",
        "                scheduler.step()\n",
        "\n",
        "            loss_epoch = loss_run / dataset_sizes[phase]\n",
        "            loss_stats[phase].append(loss_epoch)\n",
        "            epoch_acc = running_corrects.double() / dataset_sizes[phase]\n",
        "            accuracy_stats[phase].append(epoch_acc)\n",
        "\n",
        "            print('{} Loss: {:.4f} Acc: {:.4f}'.format(\n",
        "                phase, loss_epoch, epoch_acc))\n",
        "\n",
        "            if phase == 'val' and epoch_acc > best_acc:\n",
        "                best_acc = epoch_acc\n",
        "                best_model_wts = copy.deepcopy(model.state_dict())\n",
        "\n",
        "        print()\n",
        "\n",
        "    time_elapsed = time.time() - since\n",
        "    print('Total training time: {:.0f}m {:.0f}s'.format(\n",
        "        time_elapsed // 60, time_elapsed % 60))\n",
        "    print('Maximum validation set Acc: {:4f}'.format(best_acc))\n",
        "\n",
        "    model.load_state_dict(best_model_wts)\n",
        "    return model"
      ],
      "execution_count": null,
      "outputs": []
    },
    {
      "cell_type": "code",
      "metadata": {
        "id": "O2JW4r-LRGN7"
      },
      "source": [
        "def evaluate(model, phase):\n",
        "    model.eval()  \n",
        "\n",
        "    loss_run = 0.0\n",
        "    running_corrects = 0\n",
        "\n",
        "    for inputs, labels in dataloaders[phase]:\n",
        "        inputs = inputs.to(device)\n",
        "        labels = labels.to(device)\n",
        "\n",
        "        with torch.set_grad_enabled(phase == 'train'):\n",
        "            outputs = model(inputs)\n",
        "            _, preds = torch.max(outputs, 1)\n",
        "            loss = criterion(outputs, labels)\n",
        "\n",
        "        loss_run += loss.item() * inputs.size(0)\n",
        "        running_corrects += torch.sum(preds == labels.data)\n",
        "\n",
        "    loss_epoch = loss_run / dataset_sizes[phase]\n",
        "    epoch_acc = running_corrects.double() / dataset_sizes[phase]\n",
        "\n",
        "    return loss_epoch, epoch_acc    "
      ],
      "execution_count": null,
      "outputs": []
    },
    {
      "cell_type": "code",
      "metadata": {
        "id": "ZPkjZ4eufF_p"
      },
      "source": [
        "\n",
        "\n",
        "model1 = models.resnet18(pretrained=False)\n",
        "num1 = model1.fc.in_features\n",
        "model1.fc = nn.Linear(num1, 10)\n",
        "model1 = model1.to(device)\n",
        "criterion = nn.CrossEntropyLoss()\n",
        "optimizer_rn = optim.Adam(model1.parameters(), lr=0.01)\n",
        "exp_lr_scheduler = optim.lr_scheduler.CosineAnnealingLR(optimizer_rn, T_max=200)"
      ],
      "execution_count": null,
      "outputs": []
    },
    {
      "cell_type": "code",
      "metadata": {
        "colab": {
          "base_uri": "https://localhost:8080/"
        },
        "id": "0CFwHO_-fUEJ",
        "outputId": "06aefe27-5119-4a2c-fca9-c4dc10612af1"
      },
      "source": [
        "model1"
      ],
      "execution_count": null,
      "outputs": [
        {
          "output_type": "execute_result",
          "data": {
            "text/plain": [
              "ResNet(\n",
              "  (conv1): Conv2d(3, 64, kernel_size=(7, 7), stride=(2, 2), padding=(3, 3), bias=False)\n",
              "  (bn1): BatchNorm2d(64, eps=1e-05, momentum=0.1, affine=True, track_running_stats=True)\n",
              "  (relu): ReLU(inplace=True)\n",
              "  (maxpool): MaxPool2d(kernel_size=3, stride=2, padding=1, dilation=1, ceil_mode=False)\n",
              "  (layer1): Sequential(\n",
              "    (0): BasicBlock(\n",
              "      (conv1): Conv2d(64, 64, kernel_size=(3, 3), stride=(1, 1), padding=(1, 1), bias=False)\n",
              "      (bn1): BatchNorm2d(64, eps=1e-05, momentum=0.1, affine=True, track_running_stats=True)\n",
              "      (relu): ReLU(inplace=True)\n",
              "      (conv2): Conv2d(64, 64, kernel_size=(3, 3), stride=(1, 1), padding=(1, 1), bias=False)\n",
              "      (bn2): BatchNorm2d(64, eps=1e-05, momentum=0.1, affine=True, track_running_stats=True)\n",
              "    )\n",
              "    (1): BasicBlock(\n",
              "      (conv1): Conv2d(64, 64, kernel_size=(3, 3), stride=(1, 1), padding=(1, 1), bias=False)\n",
              "      (bn1): BatchNorm2d(64, eps=1e-05, momentum=0.1, affine=True, track_running_stats=True)\n",
              "      (relu): ReLU(inplace=True)\n",
              "      (conv2): Conv2d(64, 64, kernel_size=(3, 3), stride=(1, 1), padding=(1, 1), bias=False)\n",
              "      (bn2): BatchNorm2d(64, eps=1e-05, momentum=0.1, affine=True, track_running_stats=True)\n",
              "    )\n",
              "  )\n",
              "  (layer2): Sequential(\n",
              "    (0): BasicBlock(\n",
              "      (conv1): Conv2d(64, 128, kernel_size=(3, 3), stride=(2, 2), padding=(1, 1), bias=False)\n",
              "      (bn1): BatchNorm2d(128, eps=1e-05, momentum=0.1, affine=True, track_running_stats=True)\n",
              "      (relu): ReLU(inplace=True)\n",
              "      (conv2): Conv2d(128, 128, kernel_size=(3, 3), stride=(1, 1), padding=(1, 1), bias=False)\n",
              "      (bn2): BatchNorm2d(128, eps=1e-05, momentum=0.1, affine=True, track_running_stats=True)\n",
              "      (downsample): Sequential(\n",
              "        (0): Conv2d(64, 128, kernel_size=(1, 1), stride=(2, 2), bias=False)\n",
              "        (1): BatchNorm2d(128, eps=1e-05, momentum=0.1, affine=True, track_running_stats=True)\n",
              "      )\n",
              "    )\n",
              "    (1): BasicBlock(\n",
              "      (conv1): Conv2d(128, 128, kernel_size=(3, 3), stride=(1, 1), padding=(1, 1), bias=False)\n",
              "      (bn1): BatchNorm2d(128, eps=1e-05, momentum=0.1, affine=True, track_running_stats=True)\n",
              "      (relu): ReLU(inplace=True)\n",
              "      (conv2): Conv2d(128, 128, kernel_size=(3, 3), stride=(1, 1), padding=(1, 1), bias=False)\n",
              "      (bn2): BatchNorm2d(128, eps=1e-05, momentum=0.1, affine=True, track_running_stats=True)\n",
              "    )\n",
              "  )\n",
              "  (layer3): Sequential(\n",
              "    (0): BasicBlock(\n",
              "      (conv1): Conv2d(128, 256, kernel_size=(3, 3), stride=(2, 2), padding=(1, 1), bias=False)\n",
              "      (bn1): BatchNorm2d(256, eps=1e-05, momentum=0.1, affine=True, track_running_stats=True)\n",
              "      (relu): ReLU(inplace=True)\n",
              "      (conv2): Conv2d(256, 256, kernel_size=(3, 3), stride=(1, 1), padding=(1, 1), bias=False)\n",
              "      (bn2): BatchNorm2d(256, eps=1e-05, momentum=0.1, affine=True, track_running_stats=True)\n",
              "      (downsample): Sequential(\n",
              "        (0): Conv2d(128, 256, kernel_size=(1, 1), stride=(2, 2), bias=False)\n",
              "        (1): BatchNorm2d(256, eps=1e-05, momentum=0.1, affine=True, track_running_stats=True)\n",
              "      )\n",
              "    )\n",
              "    (1): BasicBlock(\n",
              "      (conv1): Conv2d(256, 256, kernel_size=(3, 3), stride=(1, 1), padding=(1, 1), bias=False)\n",
              "      (bn1): BatchNorm2d(256, eps=1e-05, momentum=0.1, affine=True, track_running_stats=True)\n",
              "      (relu): ReLU(inplace=True)\n",
              "      (conv2): Conv2d(256, 256, kernel_size=(3, 3), stride=(1, 1), padding=(1, 1), bias=False)\n",
              "      (bn2): BatchNorm2d(256, eps=1e-05, momentum=0.1, affine=True, track_running_stats=True)\n",
              "    )\n",
              "  )\n",
              "  (layer4): Sequential(\n",
              "    (0): BasicBlock(\n",
              "      (conv1): Conv2d(256, 512, kernel_size=(3, 3), stride=(2, 2), padding=(1, 1), bias=False)\n",
              "      (bn1): BatchNorm2d(512, eps=1e-05, momentum=0.1, affine=True, track_running_stats=True)\n",
              "      (relu): ReLU(inplace=True)\n",
              "      (conv2): Conv2d(512, 512, kernel_size=(3, 3), stride=(1, 1), padding=(1, 1), bias=False)\n",
              "      (bn2): BatchNorm2d(512, eps=1e-05, momentum=0.1, affine=True, track_running_stats=True)\n",
              "      (downsample): Sequential(\n",
              "        (0): Conv2d(256, 512, kernel_size=(1, 1), stride=(2, 2), bias=False)\n",
              "        (1): BatchNorm2d(512, eps=1e-05, momentum=0.1, affine=True, track_running_stats=True)\n",
              "      )\n",
              "    )\n",
              "    (1): BasicBlock(\n",
              "      (conv1): Conv2d(512, 512, kernel_size=(3, 3), stride=(1, 1), padding=(1, 1), bias=False)\n",
              "      (bn1): BatchNorm2d(512, eps=1e-05, momentum=0.1, affine=True, track_running_stats=True)\n",
              "      (relu): ReLU(inplace=True)\n",
              "      (conv2): Conv2d(512, 512, kernel_size=(3, 3), stride=(1, 1), padding=(1, 1), bias=False)\n",
              "      (bn2): BatchNorm2d(512, eps=1e-05, momentum=0.1, affine=True, track_running_stats=True)\n",
              "    )\n",
              "  )\n",
              "  (avgpool): AdaptiveAvgPool2d(output_size=(1, 1))\n",
              "  (fc): Linear(in_features=512, out_features=10, bias=True)\n",
              ")"
            ]
          },
          "metadata": {
            "tags": []
          },
          "execution_count": 8
        }
      ]
    },
    {
      "cell_type": "code",
      "metadata": {
        "colab": {
          "base_uri": "https://localhost:8080/"
        },
        "id": "MoO6l0Rmfiej",
        "outputId": "fe57e79d-905d-43fd-9c77-a20d18f9b5c6"
      },
      "source": [
        "accuracy1 = {'train': [], 'val': []}\n",
        "loss1 = {'train': [], 'val': []}\n",
        "num_epochs = 30\n",
        "model1 = train_model(model1, criterion, optimizer_rn, exp_lr_scheduler, num_epochs, accuracy1, loss1)"
      ],
      "execution_count": null,
      "outputs": [
        {
          "output_type": "stream",
          "text": [
            "Epoch 0/29\n",
            "----------\n",
            "train Loss: 1.8221 Acc: 0.3649\n",
            "val Loss: 1.5922 Acc: 0.4301\n",
            "\n",
            "Epoch 1/29\n",
            "----------\n",
            "train Loss: 1.3194 Acc: 0.5247\n",
            "val Loss: 1.2139 Acc: 0.5650\n",
            "\n",
            "Epoch 2/29\n",
            "----------\n",
            "train Loss: 1.0570 Acc: 0.6275\n",
            "val Loss: 1.0397 Acc: 0.6331\n",
            "\n",
            "Epoch 3/29\n",
            "----------\n",
            "train Loss: 0.8739 Acc: 0.6923\n",
            "val Loss: 0.9388 Acc: 0.6685\n",
            "\n",
            "Epoch 4/29\n",
            "----------\n",
            "train Loss: 0.7554 Acc: 0.7373\n",
            "val Loss: 0.9722 Acc: 0.6726\n",
            "\n",
            "Epoch 5/29\n",
            "----------\n",
            "train Loss: 0.6547 Acc: 0.7713\n",
            "val Loss: 0.8458 Acc: 0.7068\n",
            "\n",
            "Epoch 6/29\n",
            "----------\n",
            "train Loss: 0.5487 Acc: 0.8093\n",
            "val Loss: 0.8503 Acc: 0.7196\n",
            "\n",
            "Epoch 7/29\n",
            "----------\n",
            "train Loss: 0.4593 Acc: 0.8404\n",
            "val Loss: 0.8718 Acc: 0.7170\n",
            "\n",
            "Epoch 8/29\n",
            "----------\n",
            "train Loss: 0.3808 Acc: 0.8683\n",
            "val Loss: 0.8856 Acc: 0.7263\n",
            "\n",
            "Epoch 9/29\n",
            "----------\n",
            "train Loss: 0.3083 Acc: 0.8948\n",
            "val Loss: 0.9201 Acc: 0.7223\n",
            "\n",
            "Epoch 10/29\n",
            "----------\n",
            "train Loss: 0.2528 Acc: 0.9118\n",
            "val Loss: 1.0543 Acc: 0.7145\n",
            "\n",
            "Epoch 11/29\n",
            "----------\n",
            "train Loss: 0.2025 Acc: 0.9293\n",
            "val Loss: 1.1012 Acc: 0.7233\n",
            "\n",
            "Epoch 12/29\n",
            "----------\n",
            "train Loss: 0.1750 Acc: 0.9398\n",
            "val Loss: 1.0765 Acc: 0.7222\n",
            "\n",
            "Epoch 13/29\n",
            "----------\n",
            "train Loss: 0.1451 Acc: 0.9496\n",
            "val Loss: 1.1848 Acc: 0.7261\n",
            "\n",
            "Epoch 14/29\n",
            "----------\n",
            "train Loss: 0.1302 Acc: 0.9547\n",
            "val Loss: 1.1750 Acc: 0.7265\n",
            "\n",
            "Epoch 15/29\n",
            "----------\n",
            "train Loss: 0.1081 Acc: 0.9617\n",
            "val Loss: 1.3259 Acc: 0.7231\n",
            "\n",
            "Epoch 16/29\n",
            "----------\n",
            "train Loss: 0.0996 Acc: 0.9652\n",
            "val Loss: 1.3649 Acc: 0.7163\n",
            "\n",
            "Epoch 17/29\n",
            "----------\n",
            "train Loss: 0.1042 Acc: 0.9641\n",
            "val Loss: 1.2951 Acc: 0.7301\n",
            "\n",
            "Epoch 18/29\n",
            "----------\n",
            "train Loss: 0.0910 Acc: 0.9690\n",
            "val Loss: 1.2731 Acc: 0.7293\n",
            "\n",
            "Epoch 19/29\n",
            "----------\n",
            "train Loss: 0.0778 Acc: 0.9734\n",
            "val Loss: 1.3886 Acc: 0.7312\n",
            "\n",
            "Epoch 20/29\n",
            "----------\n",
            "train Loss: 0.0742 Acc: 0.9749\n",
            "val Loss: 1.3983 Acc: 0.7316\n",
            "\n",
            "Epoch 21/29\n",
            "----------\n",
            "train Loss: 0.0776 Acc: 0.9740\n",
            "val Loss: 1.2484 Acc: 0.7323\n",
            "\n",
            "Epoch 22/29\n",
            "----------\n",
            "train Loss: 0.0681 Acc: 0.9768\n",
            "val Loss: 1.3808 Acc: 0.7276\n",
            "\n",
            "Epoch 23/29\n",
            "----------\n",
            "train Loss: 0.0607 Acc: 0.9788\n",
            "val Loss: 1.4637 Acc: 0.7273\n",
            "\n",
            "Epoch 24/29\n",
            "----------\n",
            "train Loss: 0.0723 Acc: 0.9757\n",
            "val Loss: 1.4576 Acc: 0.7304\n",
            "\n",
            "Epoch 25/29\n",
            "----------\n",
            "train Loss: 0.0589 Acc: 0.9797\n",
            "val Loss: 1.4379 Acc: 0.7243\n",
            "\n",
            "Epoch 26/29\n",
            "----------\n",
            "train Loss: 0.0569 Acc: 0.9807\n",
            "val Loss: 1.4866 Acc: 0.7267\n",
            "\n",
            "Epoch 27/29\n",
            "----------\n",
            "train Loss: 0.0508 Acc: 0.9828\n",
            "val Loss: 1.5448 Acc: 0.7317\n",
            "\n",
            "Epoch 28/29\n",
            "----------\n",
            "train Loss: 0.0556 Acc: 0.9808\n",
            "val Loss: 1.4784 Acc: 0.7290\n",
            "\n",
            "Epoch 29/29\n",
            "----------\n",
            "train Loss: 0.0511 Acc: 0.9826\n",
            "val Loss: 1.5575 Acc: 0.7271\n",
            "\n",
            "Training complete in 52m 39s\n",
            "Best val Acc: 0.732300\n"
          ],
          "name": "stdout"
        }
      ]
    },
    {
      "cell_type": "markdown",
      "metadata": {
        "id": "xUfAdbUrNEjp"
      },
      "source": [
        "#Plotting Graphs"
      ]
    },
    {
      "cell_type": "code",
      "metadata": {
        "colab": {
          "base_uri": "https://localhost:8080/",
          "height": 351
        },
        "id": "UQbzrZFHjWBs",
        "outputId": "694c6f85-4e0f-41c6-bdf1-da2de984d6ec"
      },
      "source": [
        "fig = plt.figure(figsize=(9,5))\n",
        "plt.plot(accuracy1['train'], label='train_acc')\n",
        "plt.plot(accuracy1['val'], label='val_acc')\n",
        "plt.xlabel('Number of Epochs')\n",
        "plt.ylabel('Accuracy')\n",
        "plt.legend()\n"
      ],
      "execution_count": null,
      "outputs": [
        {
          "output_type": "execute_result",
          "data": {
            "text/plain": [
              "<matplotlib.legend.Legend at 0x7f49c9df4eb8>"
            ]
          },
          "metadata": {
            "tags": []
          },
          "execution_count": 49
        },
        {
          "output_type": "display_data",
          "data": {
            "image/png": "[encoded data removed]",
            "text/plain": [
              "<Figure size 648x360 with 1 Axes>"
            ]
          },
          "metadata": {
            "tags": []
          }
        }
      ]
    },
    {
      "cell_type": "code",
      "metadata": {
        "colab": {
          "base_uri": "https://localhost:8080/",
          "height": 351
        },
        "id": "u1QQwzzejZil",
        "outputId": "20a3ec29-24ba-4f19-b1f7-97d2f2a79527"
      },
      "source": [
        "fig = plt.figure(figsize=(9,5))\n",
        "plt.plot(loss1['train'], label='train_loss')\n",
        "plt.plot(loss1['val'], label='val_loss')\n",
        "plt.xlabel('Epochs')\n",
        "plt.ylabel('Loss')\n",
        "plt.legend()\n"
      ],
      "execution_count": null,
      "outputs": [
        {
          "output_type": "execute_result",
          "data": {
            "text/plain": [
              "<matplotlib.legend.Legend at 0x7f49cc963518>"
            ]
          },
          "metadata": {
            "tags": []
          },
          "execution_count": 50
        },
        {
          "output_type": "display_data",
          "data": {
            "image/png": "[encoded data removed]",
            "text/plain": [
              "<Figure size 648x360 with 1 Axes>"
            ]
          },
          "metadata": {
            "tags": []
          }
        }
      ]
    },
    {
      "cell_type": "code",
      "metadata": {
        "id": "C2L9VdYFcP1v"
      },
      "source": [
        "import pandas as pd\n",
        "df = pd.DataFrame(accuracy1['train'])\n",
        "df.to_csv('acc_train1.csv') "
      ],
      "execution_count": null,
      "outputs": []
    },
    {
      "cell_type": "code",
      "metadata": {
        "id": "oMFjQMgkgMvx"
      },
      "source": [
        "data = pd.read_"
      ],
      "execution_count": null,
      "outputs": []
    },
    {
      "cell_type": "code",
      "metadata": {
        "colab": {
          "base_uri": "https://localhost:8080/"
        },
        "id": "k5MSAN1lciKs",
        "outputId": "fdcd6783-0b04-4abf-8767-20ca47b09c1b"
      },
      "source": [
        "from google.colab import drive\n",
        "drive.mount('/content/drive')"
      ],
      "execution_count": null,
      "outputs": [
        {
          "output_type": "stream",
          "text": [
            "Mounted at /content/drive\n"
          ],
          "name": "stdout"
        }
      ]
    },
    {
      "cell_type": "code",
      "metadata": {
        "colab": {
          "base_uri": "https://localhost:8080/"
        },
        "id": "sC56n7lIFU4T",
        "outputId": "8581a380-217f-4e57-c7c1-a2904843dcdd"
      },
      "source": [
        "_, acc_train1 = evaluate(model1, 'train')\n",
        "_, acc_val1 = evaluate(model1, 'val')\n",
        "_, acc_test1 = evaluate(model1, 'test')\n",
        "\n",
        "print('Training  Accuracy:   %.3f' % acc_train1)\n",
        "print('Validation Accuracy:  %.3f' % acc_val1)\n",
        "print('Testing Accuracy:     %.3f' % acc_test1)"
      ],
      "execution_count": null,
      "outputs": [
        {
          "output_type": "stream",
          "text": [
            "Training  Accuracy:   0.986\n",
            "Validation Accuracy:  0.739\n",
            "Testing Accuracy:     0.738\n"
          ],
          "name": "stdout"
        }
      ]
    },
    {
      "cell_type": "markdown",
      "metadata": {
        "id": "5DsugBLXjPqD"
      },
      "source": [
        "# Part 2"
      ]
    },
    {
      "cell_type": "markdown",
      "metadata": {
        "id": "dzPu98s4YS3N"
      },
      "source": [
        "Finetuning CONVNet\n",
        "(a) Keeping pretrained = true but allowing weights to be learned in all layers"
      ]
    },
    {
      "cell_type": "code",
      "metadata": {
        "id": "x6ujNiWpPHoh"
      },
      "source": [
        "model2 = models.resnet18(pretrained=True)\n",
        "num2 = model2.fc.in_features\n",
        "\n",
        "model2.fc = nn.Linear(num2, 10)\n",
        "\n",
        "model2 = model2.to(device)\n",
        "criterion = nn.CrossEntropyLoss()\n",
        "optimizer_ft = optim.Adam(model2.parameters(), lr=0.001)\n",
        "exp_lr_scheduler = optim.lr_scheduler.CosineAnnealingLR(optimizer_ft, T_max=200)"
      ],
      "execution_count": null,
      "outputs": []
    },
    {
      "cell_type": "code",
      "metadata": {
        "colab": {
          "base_uri": "https://localhost:8080/"
        },
        "id": "pAAajBXMwPYO",
        "outputId": "0b04b4d2-cd28-4c62-eaf5-035c175ea371"
      },
      "source": [
        "model2"
      ],
      "execution_count": null,
      "outputs": [
        {
          "output_type": "execute_result",
          "data": {
            "text/plain": [
              "ResNet(\n",
              "  (conv1): Conv2d(3, 64, kernel_size=(7, 7), stride=(2, 2), padding=(3, 3), bias=False)\n",
              "  (bn1): BatchNorm2d(64, eps=1e-05, momentum=0.1, affine=True, track_running_stats=True)\n",
              "  (relu): ReLU(inplace=True)\n",
              "  (maxpool): MaxPool2d(kernel_size=3, stride=2, padding=1, dilation=1, ceil_mode=False)\n",
              "  (layer1): Sequential(\n",
              "    (0): BasicBlock(\n",
              "      (conv1): Conv2d(64, 64, kernel_size=(3, 3), stride=(1, 1), padding=(1, 1), bias=False)\n",
              "      (bn1): BatchNorm2d(64, eps=1e-05, momentum=0.1, affine=True, track_running_stats=True)\n",
              "      (relu): ReLU(inplace=True)\n",
              "      (conv2): Conv2d(64, 64, kernel_size=(3, 3), stride=(1, 1), padding=(1, 1), bias=False)\n",
              "      (bn2): BatchNorm2d(64, eps=1e-05, momentum=0.1, affine=True, track_running_stats=True)\n",
              "    )\n",
              "    (1): BasicBlock(\n",
              "      (conv1): Conv2d(64, 64, kernel_size=(3, 3), stride=(1, 1), padding=(1, 1), bias=False)\n",
              "      (bn1): BatchNorm2d(64, eps=1e-05, momentum=0.1, affine=True, track_running_stats=True)\n",
              "      (relu): ReLU(inplace=True)\n",
              "      (conv2): Conv2d(64, 64, kernel_size=(3, 3), stride=(1, 1), padding=(1, 1), bias=False)\n",
              "      (bn2): BatchNorm2d(64, eps=1e-05, momentum=0.1, affine=True, track_running_stats=True)\n",
              "    )\n",
              "  )\n",
              "  (layer2): Sequential(\n",
              "    (0): BasicBlock(\n",
              "      (conv1): Conv2d(64, 128, kernel_size=(3, 3), stride=(2, 2), padding=(1, 1), bias=False)\n",
              "      (bn1): BatchNorm2d(128, eps=1e-05, momentum=0.1, affine=True, track_running_stats=True)\n",
              "      (relu): ReLU(inplace=True)\n",
              "      (conv2): Conv2d(128, 128, kernel_size=(3, 3), stride=(1, 1), padding=(1, 1), bias=False)\n",
              "      (bn2): BatchNorm2d(128, eps=1e-05, momentum=0.1, affine=True, track_running_stats=True)\n",
              "      (downsample): Sequential(\n",
              "        (0): Conv2d(64, 128, kernel_size=(1, 1), stride=(2, 2), bias=False)\n",
              "        (1): BatchNorm2d(128, eps=1e-05, momentum=0.1, affine=True, track_running_stats=True)\n",
              "      )\n",
              "    )\n",
              "    (1): BasicBlock(\n",
              "      (conv1): Conv2d(128, 128, kernel_size=(3, 3), stride=(1, 1), padding=(1, 1), bias=False)\n",
              "      (bn1): BatchNorm2d(128, eps=1e-05, momentum=0.1, affine=True, track_running_stats=True)\n",
              "      (relu): ReLU(inplace=True)\n",
              "      (conv2): Conv2d(128, 128, kernel_size=(3, 3), stride=(1, 1), padding=(1, 1), bias=False)\n",
              "      (bn2): BatchNorm2d(128, eps=1e-05, momentum=0.1, affine=True, track_running_stats=True)\n",
              "    )\n",
              "  )\n",
              "  (layer3): Sequential(\n",
              "    (0): BasicBlock(\n",
              "      (conv1): Conv2d(128, 256, kernel_size=(3, 3), stride=(2, 2), padding=(1, 1), bias=False)\n",
              "      (bn1): BatchNorm2d(256, eps=1e-05, momentum=0.1, affine=True, track_running_stats=True)\n",
              "      (relu): ReLU(inplace=True)\n",
              "      (conv2): Conv2d(256, 256, kernel_size=(3, 3), stride=(1, 1), padding=(1, 1), bias=False)\n",
              "      (bn2): BatchNorm2d(256, eps=1e-05, momentum=0.1, affine=True, track_running_stats=True)\n",
              "      (downsample): Sequential(\n",
              "        (0): Conv2d(128, 256, kernel_size=(1, 1), stride=(2, 2), bias=False)\n",
              "        (1): BatchNorm2d(256, eps=1e-05, momentum=0.1, affine=True, track_running_stats=True)\n",
              "      )\n",
              "    )\n",
              "    (1): BasicBlock(\n",
              "      (conv1): Conv2d(256, 256, kernel_size=(3, 3), stride=(1, 1), padding=(1, 1), bias=False)\n",
              "      (bn1): BatchNorm2d(256, eps=1e-05, momentum=0.1, affine=True, track_running_stats=True)\n",
              "      (relu): ReLU(inplace=True)\n",
              "      (conv2): Conv2d(256, 256, kernel_size=(3, 3), stride=(1, 1), padding=(1, 1), bias=False)\n",
              "      (bn2): BatchNorm2d(256, eps=1e-05, momentum=0.1, affine=True, track_running_stats=True)\n",
              "    )\n",
              "  )\n",
              "  (layer4): Sequential(\n",
              "    (0): BasicBlock(\n",
              "      (conv1): Conv2d(256, 512, kernel_size=(3, 3), stride=(2, 2), padding=(1, 1), bias=False)\n",
              "      (bn1): BatchNorm2d(512, eps=1e-05, momentum=0.1, affine=True, track_running_stats=True)\n",
              "      (relu): ReLU(inplace=True)\n",
              "      (conv2): Conv2d(512, 512, kernel_size=(3, 3), stride=(1, 1), padding=(1, 1), bias=False)\n",
              "      (bn2): BatchNorm2d(512, eps=1e-05, momentum=0.1, affine=True, track_running_stats=True)\n",
              "      (downsample): Sequential(\n",
              "        (0): Conv2d(256, 512, kernel_size=(1, 1), stride=(2, 2), bias=False)\n",
              "        (1): BatchNorm2d(512, eps=1e-05, momentum=0.1, affine=True, track_running_stats=True)\n",
              "      )\n",
              "    )\n",
              "    (1): BasicBlock(\n",
              "      (conv1): Conv2d(512, 512, kernel_size=(3, 3), stride=(1, 1), padding=(1, 1), bias=False)\n",
              "      (bn1): BatchNorm2d(512, eps=1e-05, momentum=0.1, affine=True, track_running_stats=True)\n",
              "      (relu): ReLU(inplace=True)\n",
              "      (conv2): Conv2d(512, 512, kernel_size=(3, 3), stride=(1, 1), padding=(1, 1), bias=False)\n",
              "      (bn2): BatchNorm2d(512, eps=1e-05, momentum=0.1, affine=True, track_running_stats=True)\n",
              "    )\n",
              "  )\n",
              "  (avgpool): AdaptiveAvgPool2d(output_size=(1, 1))\n",
              "  (fc): Linear(in_features=512, out_features=10, bias=True)\n",
              ")"
            ]
          },
          "metadata": {
            "tags": []
          },
          "execution_count": 65
        }
      ]
    },
    {
      "cell_type": "code",
      "metadata": {
        "colab": {
          "base_uri": "https://localhost:8080/"
        },
        "id": "8uskr8ZrPU_d",
        "outputId": "2e9ab4b7-f120-4b43-d81b-e619b737dd87"
      },
      "source": [
        "acc2 = {'train': [], 'val': []}\n",
        "loss2 = {'train': [], 'val': []}\n",
        "num_epochs = 30\n",
        "model2 = train_model(model2, criterion, optimizer_ft, exp_lr_scheduler, num_epochs, accuracy_ft, loss_ft)"
      ],
      "execution_count": null,
      "outputs": [
        {
          "output_type": "stream",
          "text": [
            "Epoch 0/29\n",
            "----------\n",
            "train Loss: 0.0375 Acc: 0.9872\n",
            "val Loss: 0.9793 Acc: 0.7992\n",
            "\n",
            "Epoch 1/29\n",
            "----------\n",
            "train Loss: 0.0443 Acc: 0.9856\n",
            "val Loss: 0.9129 Acc: 0.8040\n",
            "\n",
            "Epoch 2/29\n",
            "----------\n",
            "train Loss: 0.0304 Acc: 0.9897\n",
            "val Loss: 0.9631 Acc: 0.8050\n",
            "\n",
            "Epoch 3/29\n",
            "----------\n",
            "train Loss: 0.0288 Acc: 0.9903\n",
            "val Loss: 1.0289 Acc: 0.8026\n",
            "\n",
            "Epoch 4/29\n",
            "----------\n",
            "train Loss: 0.0311 Acc: 0.9896\n",
            "val Loss: 0.9462 Acc: 0.8112\n",
            "\n",
            "Epoch 5/29\n",
            "----------\n",
            "train Loss: 0.0256 Acc: 0.9915\n",
            "val Loss: 1.0380 Acc: 0.8004\n",
            "\n",
            "Epoch 6/29\n",
            "----------\n",
            "train Loss: 0.0259 Acc: 0.9914\n",
            "val Loss: 1.0196 Acc: 0.8022\n",
            "\n",
            "Epoch 7/29\n",
            "----------\n",
            "train Loss: 0.0262 Acc: 0.9915\n",
            "val Loss: 0.9820 Acc: 0.8044\n",
            "\n",
            "Epoch 8/29\n",
            "----------\n",
            "train Loss: 0.0251 Acc: 0.9917\n",
            "val Loss: 1.0231 Acc: 0.8047\n",
            "\n",
            "Epoch 9/29\n",
            "----------\n",
            "train Loss: 0.0329 Acc: 0.9896\n",
            "val Loss: 1.0241 Acc: 0.8038\n",
            "\n",
            "Epoch 10/29\n",
            "----------\n",
            "train Loss: 0.0207 Acc: 0.9933\n",
            "val Loss: 1.0328 Acc: 0.8061\n",
            "\n",
            "Epoch 11/29\n",
            "----------\n",
            "train Loss: 0.0239 Acc: 0.9928\n",
            "val Loss: 1.0460 Acc: 0.8029\n",
            "\n",
            "Epoch 12/29\n",
            "----------\n",
            "train Loss: 0.0184 Acc: 0.9939\n",
            "val Loss: 1.1205 Acc: 0.8000\n",
            "\n",
            "Epoch 13/29\n",
            "----------\n",
            "train Loss: 0.0239 Acc: 0.9914\n",
            "val Loss: 1.1352 Acc: 0.8026\n",
            "\n",
            "Epoch 14/29\n",
            "----------\n",
            "train Loss: 0.0189 Acc: 0.9938\n",
            "val Loss: 1.0582 Acc: 0.8126\n",
            "\n",
            "Epoch 15/29\n",
            "----------\n",
            "train Loss: 0.0206 Acc: 0.9933\n",
            "val Loss: 1.0430 Acc: 0.8060\n",
            "\n",
            "Epoch 16/29\n",
            "----------\n",
            "train Loss: 0.0155 Acc: 0.9947\n",
            "val Loss: 1.1007 Acc: 0.7993\n",
            "\n",
            "Epoch 17/29\n",
            "----------\n",
            "train Loss: 0.0241 Acc: 0.9920\n",
            "val Loss: 1.0585 Acc: 0.8099\n",
            "\n",
            "Epoch 18/29\n",
            "----------\n",
            "train Loss: 0.0535 Acc: 0.9842\n",
            "val Loss: 0.9019 Acc: 0.7975\n",
            "\n",
            "Epoch 19/29\n",
            "----------\n",
            "train Loss: 0.0342 Acc: 0.9889\n",
            "val Loss: 1.0868 Acc: 0.8028\n",
            "\n",
            "Epoch 20/29\n",
            "----------\n",
            "train Loss: 0.0109 Acc: 0.9963\n",
            "val Loss: 1.1343 Acc: 0.8068\n",
            "\n",
            "Epoch 21/29\n",
            "----------\n",
            "train Loss: 0.0081 Acc: 0.9972\n",
            "val Loss: 1.1962 Acc: 0.8086\n",
            "\n",
            "Epoch 22/29\n",
            "----------\n",
            "train Loss: 0.0080 Acc: 0.9974\n",
            "val Loss: 1.1984 Acc: 0.8078\n",
            "\n",
            "Epoch 23/29\n",
            "----------\n",
            "train Loss: 0.0160 Acc: 0.9948\n",
            "val Loss: 1.1225 Acc: 0.8064\n",
            "\n",
            "Epoch 24/29\n",
            "----------\n",
            "train Loss: 0.0144 Acc: 0.9958\n",
            "val Loss: 1.1421 Acc: 0.7985\n",
            "\n",
            "Epoch 25/29\n",
            "----------\n",
            "train Loss: 0.0152 Acc: 0.9947\n",
            "val Loss: 1.1469 Acc: 0.8051\n",
            "\n",
            "Epoch 26/29\n",
            "----------\n",
            "train Loss: 0.0121 Acc: 0.9960\n",
            "val Loss: 1.1409 Acc: 0.8078\n",
            "\n",
            "Epoch 27/29\n",
            "----------\n",
            "train Loss: 0.0126 Acc: 0.9954\n",
            "val Loss: 1.2289 Acc: 0.8031\n",
            "\n",
            "Epoch 28/29\n",
            "----------\n",
            "train Loss: 0.0169 Acc: 0.9942\n",
            "val Loss: 1.1504 Acc: 0.8079\n",
            "\n",
            "Epoch 29/29\n",
            "----------\n",
            "train Loss: 0.0103 Acc: 0.9967\n",
            "val Loss: 1.1475 Acc: 0.8095\n",
            "\n",
            "Training complete in 9m 35s\n",
            "Best val Acc: 0.812600\n"
          ],
          "name": "stdout"
        }
      ]
    },
    {
      "cell_type": "code",
      "metadata": {
        "colab": {
          "base_uri": "https://localhost:8080/"
        },
        "id": "jKS-sUFmswY5",
        "outputId": "1abe4d24-aeab-4fc9-d334-2fe4eb27c872"
      },
      "source": [
        "model2 = train_model(model2, criterion, optimizer_ft, exp_lr_scheduler, num_epochs, accuracy_ft, loss_ft)"
      ],
      "execution_count": null,
      "outputs": [
        {
          "output_type": "stream",
          "text": [
            "Epoch 0/29\n",
            "----------\n",
            "train Loss: 0.9207 Acc: 0.6886\n",
            "val Loss: 0.7855 Acc: 0.7319\n",
            "\n",
            "Epoch 1/29\n",
            "----------\n",
            "train Loss: 0.6075 Acc: 0.7962\n",
            "val Loss: 0.6587 Acc: 0.7747\n",
            "\n",
            "Epoch 2/29\n",
            "----------\n",
            "train Loss: 0.4620 Acc: 0.8447\n",
            "val Loss: 0.7031 Acc: 0.7671\n",
            "\n",
            "Epoch 3/29\n",
            "----------\n",
            "train Loss: 0.3592 Acc: 0.8785\n",
            "val Loss: 0.6395 Acc: 0.7923\n",
            "\n",
            "Epoch 4/29\n",
            "----------\n",
            "train Loss: 0.2823 Acc: 0.9032\n",
            "val Loss: 0.7234 Acc: 0.7773\n",
            "\n",
            "Epoch 5/29\n",
            "----------\n",
            "train Loss: 0.2285 Acc: 0.9228\n",
            "val Loss: 0.6578 Acc: 0.8042\n",
            "\n",
            "Epoch 6/29\n",
            "----------\n",
            "train Loss: 0.1738 Acc: 0.9421\n",
            "val Loss: 0.7463 Acc: 0.7899\n",
            "\n",
            "Epoch 7/29\n",
            "----------\n",
            "train Loss: 0.1466 Acc: 0.9501\n",
            "val Loss: 0.7097 Acc: 0.8050\n",
            "\n",
            "Epoch 8/29\n",
            "----------\n",
            "train Loss: 0.1272 Acc: 0.9569\n",
            "val Loss: 0.7813 Acc: 0.8050\n",
            "\n",
            "Epoch 9/29\n",
            "----------\n",
            "train Loss: 0.1074 Acc: 0.9640\n",
            "val Loss: 0.8037 Acc: 0.7900\n",
            "\n",
            "Epoch 10/29\n",
            "----------\n",
            "train Loss: 0.0963 Acc: 0.9671\n",
            "val Loss: 0.8211 Acc: 0.8002\n",
            "\n",
            "Epoch 11/29\n",
            "----------\n",
            "train Loss: 0.0812 Acc: 0.9730\n",
            "val Loss: 0.8740 Acc: 0.7978\n",
            "\n",
            "Epoch 12/29\n",
            "----------\n",
            "train Loss: 0.0904 Acc: 0.9691\n",
            "val Loss: 1.0237 Acc: 0.7584\n",
            "\n",
            "Epoch 13/29\n",
            "----------\n",
            "train Loss: 0.0993 Acc: 0.9675\n",
            "val Loss: 0.8623 Acc: 0.8022\n",
            "\n",
            "Epoch 14/29\n",
            "----------\n",
            "train Loss: 0.0548 Acc: 0.9818\n",
            "val Loss: 0.9053 Acc: 0.8001\n",
            "\n",
            "Epoch 15/29\n",
            "----------\n",
            "train Loss: 0.0556 Acc: 0.9808\n",
            "val Loss: 0.8616 Acc: 0.8082\n",
            "\n",
            "Epoch 16/29\n",
            "----------\n",
            "train Loss: 0.0506 Acc: 0.9825\n",
            "val Loss: 0.8656 Acc: 0.8041\n",
            "\n",
            "Epoch 17/29\n",
            "----------\n",
            "train Loss: 0.0628 Acc: 0.9790\n",
            "val Loss: 0.8755 Acc: 0.7976\n",
            "\n",
            "Epoch 18/29\n",
            "----------\n",
            "train Loss: 0.0447 Acc: 0.9851\n",
            "val Loss: 0.9534 Acc: 0.8027\n",
            "\n",
            "Epoch 19/29\n",
            "----------\n",
            "train Loss: 0.0425 Acc: 0.9853\n",
            "val Loss: 0.9473 Acc: 0.7997\n",
            "\n",
            "Epoch 20/29\n",
            "----------\n",
            "train Loss: 0.0456 Acc: 0.9837\n",
            "val Loss: 0.8923 Acc: 0.8080\n",
            "\n",
            "Epoch 21/29\n",
            "----------\n",
            "train Loss: 0.0421 Acc: 0.9863\n",
            "val Loss: 0.9583 Acc: 0.7995\n",
            "\n",
            "Epoch 22/29\n",
            "----------\n",
            "train Loss: 0.0440 Acc: 0.9853\n",
            "val Loss: 0.8866 Acc: 0.8001\n",
            "\n",
            "Epoch 23/29\n",
            "----------\n",
            "train Loss: 0.0360 Acc: 0.9879\n",
            "val Loss: 0.9236 Acc: 0.8079\n",
            "\n",
            "Epoch 24/29\n",
            "----------\n",
            "train Loss: 0.0482 Acc: 0.9843\n",
            "val Loss: 0.9411 Acc: 0.7873\n",
            "\n",
            "Epoch 25/29\n",
            "----------\n",
            "train Loss: 0.0802 Acc: 0.9740\n",
            "val Loss: 0.8486 Acc: 0.8065\n",
            "\n",
            "Epoch 26/29\n",
            "----------\n",
            "train Loss: 0.0343 Acc: 0.9886\n",
            "val Loss: 0.9931 Acc: 0.8023\n",
            "\n",
            "Epoch 27/29\n",
            "----------\n",
            "train Loss: 0.0203 Acc: 0.9935\n",
            "val Loss: 1.0233 Acc: 0.8039\n",
            "\n",
            "Epoch 28/29\n",
            "----------\n",
            "train Loss: 0.0277 Acc: 0.9908\n",
            "val Loss: 0.9974 Acc: 0.8026\n",
            "\n",
            "Epoch 29/29\n",
            "----------\n",
            "train Loss: 0.0254 Acc: 0.9914\n",
            "val Loss: 1.0330 Acc: 0.8056\n",
            "\n",
            "Training complete in 9m 31s\n",
            "Best val Acc: 0.808200\n"
          ],
          "name": "stdout"
        }
      ]
    },
    {
      "cell_type": "markdown",
      "metadata": {
        "id": "531Y2OJjNMWd"
      },
      "source": [
        "#Plotting Graphs"
      ]
    },
    {
      "cell_type": "code",
      "metadata": {
        "colab": {
          "base_uri": "https://localhost:8080/",
          "height": 351
        },
        "id": "jtMHh3DkLGGd",
        "outputId": "b88c437d-b02c-451c-d707-7da3c800109d"
      },
      "source": [
        "fig = plt.figure(figsize=(9,5))\n",
        "plt.plot(accuracy_ft['train'], label='train_acc')\n",
        "plt.plot(accuracy_ft['val'], label='val_acc')\n",
        "plt.xlabel('Number of Epochs')\n",
        "plt.ylabel('Accuracy')\n",
        "plt.legend()"
      ],
      "execution_count": null,
      "outputs": [
        {
          "output_type": "execute_result",
          "data": {
            "text/plain": [
              "<matplotlib.legend.Legend at 0x7f49d46469e8>"
            ]
          },
          "metadata": {
            "tags": []
          },
          "execution_count": 54
        },
        {
          "output_type": "display_data",
          "data": {
            "image/png": "[encoded data removed]",
            "text/plain": [
              "<Figure size 648x360 with 1 Axes>"
            ]
          },
          "metadata": {
            "tags": []
          }
        }
      ]
    },
    {
      "cell_type": "code",
      "metadata": {
        "colab": {
          "base_uri": "https://localhost:8080/",
          "height": 351
        },
        "id": "f0dPL-n3LUx4",
        "outputId": "b0484976-a550-465f-c25c-4abbb072c06c"
      },
      "source": [
        "fig = plt.figure(figsize=(9,5))\n",
        "plt.plot(loss_ft['train'], label='train_loss')\n",
        "plt.plot(loss_ft['val'], label='val_loss')\n",
        "plt.xlabel('Epochs')\n",
        "plt.ylabel('Loss')\n",
        "plt.legend()"
      ],
      "execution_count": null,
      "outputs": [
        {
          "output_type": "execute_result",
          "data": {
            "text/plain": [
              "<matplotlib.legend.Legend at 0x7f49cc97d240>"
            ]
          },
          "metadata": {
            "tags": []
          },
          "execution_count": 55
        },
        {
          "output_type": "display_data",
          "data": {
            "image/png": "[encoded data removed]",
            "text/plain": [
              "<Figure size 648x360 with 1 Axes>"
            ]
          },
          "metadata": {
            "tags": []
          }
        }
      ]
    },
    {
      "cell_type": "code",
      "metadata": {
        "colab": {
          "base_uri": "https://localhost:8080/"
        },
        "id": "ptTgQ8F8UG6i",
        "outputId": "e96ae539-0695-474f-97ba-10c69b4992f6"
      },
      "source": [
        "_, train_acc_ft = evaluate(model2, 'train')\n",
        "_, val_acc_ft = evaluate(model2, 'val')\n",
        "_, test_acc_ft = evaluate(model2, 'test')\n",
        "\n",
        "print('Training  Accuracy:   %.3f' % train_acc_ft)\n",
        "print('Validation Accuracy:  %.3f' % val_acc_ft)\n",
        "print('Testing Accuracy:     %.3f' % test_acc_ft)"
      ],
      "execution_count": null,
      "outputs": [
        {
          "output_type": "stream",
          "text": [
            "Training  Accuracy:   0.995\n",
            "Validation Accuracy:  0.811\n",
            "Testing Accuracy:     0.804\n"
          ],
          "name": "stdout"
        }
      ]
    },
    {
      "cell_type": "markdown",
      "metadata": {
        "id": "_-EbJgdPrLnk"
      },
      "source": [
        "comparison between the previous model and base model"
      ]
    },
    {
      "cell_type": "code",
      "metadata": {
        "colab": {
          "base_uri": "https://localhost:8080/",
          "height": 367
        },
        "id": "VsNn2VzhqV4k",
        "outputId": "2bdafe38-ee30-49c6-c359-22da2a69ade2"
      },
      "source": [
        "fig = plt.figure(figsize=(9,5))\n",
        "plt.plot(accuracy1['train'], 'b', label='pretrained = false')\n",
        "plt.plot(accuracy_ft['train'], 'g',label='pretrained = true')\n",
        "plt.xlabel('Epochs')\n",
        "plt.ylabel('Training Accuracy')\n",
        "plt.title('Comparison between base model and pretrained model with traininable weights')\n",
        "plt.legend()"
      ],
      "execution_count": null,
      "outputs": [
        {
          "output_type": "execute_result",
          "data": {
            "text/plain": [
              "<matplotlib.legend.Legend at 0x7f49c9731940>"
            ]
          },
          "metadata": {
            "tags": []
          },
          "execution_count": 60
        },
        {
          "output_type": "display_data",
          "data": {
            "image/png": "[encoded data removed]",
            "text/plain": [
              "<Figure size 648x360 with 1 Axes>"
            ]
          },
          "metadata": {
            "tags": []
          }
        }
      ]
    },
    {
      "cell_type": "code",
      "metadata": {
        "colab": {
          "base_uri": "https://localhost:8080/",
          "height": 367
        },
        "id": "oOIDVvH4rS5v",
        "outputId": "e22a3901-4026-4c3a-dc41-c421405b79bd"
      },
      "source": [
        "fig = plt.figure(figsize=(9,5))\n",
        "plt.plot(loss1['train'], 'b', label='pretrained = false')\n",
        "plt.plot(loss_ft['train'], 'g',label='pretrained = true')\n",
        "plt.xlabel('Epochs')\n",
        "plt.ylabel('Training Loss')\n",
        "plt.title('Comparison between base model and pretrained model with traininable weights')\n",
        "plt.legend()"
      ],
      "execution_count": null,
      "outputs": [
        {
          "output_type": "execute_result",
          "data": {
            "text/plain": [
              "<matplotlib.legend.Legend at 0x7f49c9617e10>"
            ]
          },
          "metadata": {
            "tags": []
          },
          "execution_count": 62
        },
        {
          "output_type": "display_data",
          "data": {
            "image/png": "[encoded data removed]",
            "text/plain": [
              "<Figure size 648x360 with 1 Axes>"
            ]
          },
          "metadata": {
            "tags": []
          }
        }
      ]
    },
    {
      "cell_type": "markdown",
      "metadata": {
        "id": "GAH-dAJSYfjj"
      },
      "source": [
        "#Finetuning (b) \n",
        "This time, we keep the weights of the initial layers fixed and add some layers in the end which will be trained. Idea is that initial weights primarily recognise simple features independent of dataset and so initial layers' pretrained weights on the ImageNet dataset can be used on the CIFAR10 "
      ]
    },
    {
      "cell_type": "code",
      "metadata": {
        "id": "M7c7JhGqSYHg"
      },
      "source": [
        "model3 = torchvision.models.resnet18(pretrained=True)\n",
        "\n",
        "\n",
        "ct = 0\n",
        "for name, child in model3.named_children():\n",
        "    index += 1\n",
        "    if index < 7:\n",
        "        for name2, params in child.named_parameters():\n",
        "            params.requires_grad = False\n",
        "\n",
        "num2 = model3.fc.in_features\n",
        "\n",
        "model3.fc = nn.Sequential(\n",
        "    nn.Linear(num2, 256), nn.ReLU(), nn.Dropout(0.2),\n",
        "    nn.Linear(256, 128), nn.ReLU(), nn.Dropout(0.2),\n",
        "    nn.Linear(128, 128), nn.ReLU(), nn.Dropout(0.2),\n",
        "    nn.Linear(128, 64), nn.ReLU(), nn.Dropout(0.2),\n",
        "    nn.Linear(64, 32), nn.ReLU(), \n",
        "    nn.Linear(32, 10))\n",
        "\n",
        "\n",
        "model3 = model3.to(device)\n",
        "\n",
        "criterion = nn.CrossEntropyLoss()\n",
        "\n",
        "optimizer_conv = optim.Adam(model3.parameters(), lr=0.001)\n",
        "\n",
        "exp_lr_scheduler = optim.lr_scheduler.CosineAnnealingLR(optimizer_conv, T_max=100)"
      ],
      "execution_count": null,
      "outputs": []
    },
    {
      "cell_type": "code",
      "metadata": {
        "colab": {
          "base_uri": "https://localhost:8080/"
        },
        "id": "bRL_IRnzycw_",
        "outputId": "22264061-b60f-483f-eaf5-68fe51231db6"
      },
      "source": [
        "model3"
      ],
      "execution_count": null,
      "outputs": [
        {
          "output_type": "execute_result",
          "data": {
            "text/plain": [
              "ResNet(\n",
              "  (conv1): Conv2d(3, 64, kernel_size=(7, 7), stride=(2, 2), padding=(3, 3), bias=False)\n",
              "  (bn1): BatchNorm2d(64, eps=1e-05, momentum=0.1, affine=True, track_running_stats=True)\n",
              "  (relu): ReLU(inplace=True)\n",
              "  (maxpool): MaxPool2d(kernel_size=3, stride=2, padding=1, dilation=1, ceil_mode=False)\n",
              "  (layer1): Sequential(\n",
              "    (0): BasicBlock(\n",
              "      (conv1): Conv2d(64, 64, kernel_size=(3, 3), stride=(1, 1), padding=(1, 1), bias=False)\n",
              "      (bn1): BatchNorm2d(64, eps=1e-05, momentum=0.1, affine=True, track_running_stats=True)\n",
              "      (relu): ReLU(inplace=True)\n",
              "      (conv2): Conv2d(64, 64, kernel_size=(3, 3), stride=(1, 1), padding=(1, 1), bias=False)\n",
              "      (bn2): BatchNorm2d(64, eps=1e-05, momentum=0.1, affine=True, track_running_stats=True)\n",
              "    )\n",
              "    (1): BasicBlock(\n",
              "      (conv1): Conv2d(64, 64, kernel_size=(3, 3), stride=(1, 1), padding=(1, 1), bias=False)\n",
              "      (bn1): BatchNorm2d(64, eps=1e-05, momentum=0.1, affine=True, track_running_stats=True)\n",
              "      (relu): ReLU(inplace=True)\n",
              "      (conv2): Conv2d(64, 64, kernel_size=(3, 3), stride=(1, 1), padding=(1, 1), bias=False)\n",
              "      (bn2): BatchNorm2d(64, eps=1e-05, momentum=0.1, affine=True, track_running_stats=True)\n",
              "    )\n",
              "  )\n",
              "  (layer2): Sequential(\n",
              "    (0): BasicBlock(\n",
              "      (conv1): Conv2d(64, 128, kernel_size=(3, 3), stride=(2, 2), padding=(1, 1), bias=False)\n",
              "      (bn1): BatchNorm2d(128, eps=1e-05, momentum=0.1, affine=True, track_running_stats=True)\n",
              "      (relu): ReLU(inplace=True)\n",
              "      (conv2): Conv2d(128, 128, kernel_size=(3, 3), stride=(1, 1), padding=(1, 1), bias=False)\n",
              "      (bn2): BatchNorm2d(128, eps=1e-05, momentum=0.1, affine=True, track_running_stats=True)\n",
              "      (downsample): Sequential(\n",
              "        (0): Conv2d(64, 128, kernel_size=(1, 1), stride=(2, 2), bias=False)\n",
              "        (1): BatchNorm2d(128, eps=1e-05, momentum=0.1, affine=True, track_running_stats=True)\n",
              "      )\n",
              "    )\n",
              "    (1): BasicBlock(\n",
              "      (conv1): Conv2d(128, 128, kernel_size=(3, 3), stride=(1, 1), padding=(1, 1), bias=False)\n",
              "      (bn1): BatchNorm2d(128, eps=1e-05, momentum=0.1, affine=True, track_running_stats=True)\n",
              "      (relu): ReLU(inplace=True)\n",
              "      (conv2): Conv2d(128, 128, kernel_size=(3, 3), stride=(1, 1), padding=(1, 1), bias=False)\n",
              "      (bn2): BatchNorm2d(128, eps=1e-05, momentum=0.1, affine=True, track_running_stats=True)\n",
              "    )\n",
              "  )\n",
              "  (layer3): Sequential(\n",
              "    (0): BasicBlock(\n",
              "      (conv1): Conv2d(128, 256, kernel_size=(3, 3), stride=(2, 2), padding=(1, 1), bias=False)\n",
              "      (bn1): BatchNorm2d(256, eps=1e-05, momentum=0.1, affine=True, track_running_stats=True)\n",
              "      (relu): ReLU(inplace=True)\n",
              "      (conv2): Conv2d(256, 256, kernel_size=(3, 3), stride=(1, 1), padding=(1, 1), bias=False)\n",
              "      (bn2): BatchNorm2d(256, eps=1e-05, momentum=0.1, affine=True, track_running_stats=True)\n",
              "      (downsample): Sequential(\n",
              "        (0): Conv2d(128, 256, kernel_size=(1, 1), stride=(2, 2), bias=False)\n",
              "        (1): BatchNorm2d(256, eps=1e-05, momentum=0.1, affine=True, track_running_stats=True)\n",
              "      )\n",
              "    )\n",
              "    (1): BasicBlock(\n",
              "      (conv1): Conv2d(256, 256, kernel_size=(3, 3), stride=(1, 1), padding=(1, 1), bias=False)\n",
              "      (bn1): BatchNorm2d(256, eps=1e-05, momentum=0.1, affine=True, track_running_stats=True)\n",
              "      (relu): ReLU(inplace=True)\n",
              "      (conv2): Conv2d(256, 256, kernel_size=(3, 3), stride=(1, 1), padding=(1, 1), bias=False)\n",
              "      (bn2): BatchNorm2d(256, eps=1e-05, momentum=0.1, affine=True, track_running_stats=True)\n",
              "    )\n",
              "  )\n",
              "  (layer4): Sequential(\n",
              "    (0): BasicBlock(\n",
              "      (conv1): Conv2d(256, 512, kernel_size=(3, 3), stride=(2, 2), padding=(1, 1), bias=False)\n",
              "      (bn1): BatchNorm2d(512, eps=1e-05, momentum=0.1, affine=True, track_running_stats=True)\n",
              "      (relu): ReLU(inplace=True)\n",
              "      (conv2): Conv2d(512, 512, kernel_size=(3, 3), stride=(1, 1), padding=(1, 1), bias=False)\n",
              "      (bn2): BatchNorm2d(512, eps=1e-05, momentum=0.1, affine=True, track_running_stats=True)\n",
              "      (downsample): Sequential(\n",
              "        (0): Conv2d(256, 512, kernel_size=(1, 1), stride=(2, 2), bias=False)\n",
              "        (1): BatchNorm2d(512, eps=1e-05, momentum=0.1, affine=True, track_running_stats=True)\n",
              "      )\n",
              "    )\n",
              "    (1): BasicBlock(\n",
              "      (conv1): Conv2d(512, 512, kernel_size=(3, 3), stride=(1, 1), padding=(1, 1), bias=False)\n",
              "      (bn1): BatchNorm2d(512, eps=1e-05, momentum=0.1, affine=True, track_running_stats=True)\n",
              "      (relu): ReLU(inplace=True)\n",
              "      (conv2): Conv2d(512, 512, kernel_size=(3, 3), stride=(1, 1), padding=(1, 1), bias=False)\n",
              "      (bn2): BatchNorm2d(512, eps=1e-05, momentum=0.1, affine=True, track_running_stats=True)\n",
              "    )\n",
              "  )\n",
              "  (avgpool): AdaptiveAvgPool2d(output_size=(1, 1))\n",
              "  (fc): Sequential(\n",
              "    (0): Linear(in_features=512, out_features=256, bias=True)\n",
              "    (1): ReLU()\n",
              "    (2): Dropout(p=0.2, inplace=False)\n",
              "    (3): Linear(in_features=256, out_features=128, bias=True)\n",
              "    (4): ReLU()\n",
              "    (5): Dropout(p=0.2, inplace=False)\n",
              "    (6): Linear(in_features=128, out_features=128, bias=True)\n",
              "    (7): ReLU()\n",
              "    (8): Dropout(p=0.2, inplace=False)\n",
              "    (9): Linear(in_features=128, out_features=64, bias=True)\n",
              "    (10): ReLU()\n",
              "    (11): Dropout(p=0.2, inplace=False)\n",
              "    (12): Linear(in_features=64, out_features=32, bias=True)\n",
              "    (13): ReLU()\n",
              "    (14): Linear(in_features=32, out_features=10, bias=True)\n",
              "  )\n",
              ")"
            ]
          },
          "metadata": {
            "tags": []
          },
          "execution_count": 95
        }
      ]
    },
    {
      "cell_type": "code",
      "metadata": {
        "colab": {
          "base_uri": "https://localhost:8080/"
        },
        "id": "i6h9i93PYsHm",
        "outputId": "d6f07141-b336-476a-e546-85f5a5428b4f"
      },
      "source": [
        "accuracy3 = {'train': [], 'val': []}\n",
        "loss3 = {'train': [], 'val': []}\n",
        "num_epochs = 30\n",
        "model3 = train_model(model3, criterion, optimizer_conv, exp_lr_scheduler, num_epochs, accuracy3, loss3)"
      ],
      "execution_count": null,
      "outputs": [
        {
          "output_type": "stream",
          "text": [
            "Epoch 0/29\n",
            "----------\n",
            "train Loss: 1.3017 Acc: 0.5232\n",
            "val Loss: 0.9210 Acc: 0.6668\n",
            "\n",
            "Epoch 1/29\n",
            "----------\n",
            "train Loss: 0.8541 Acc: 0.7197\n",
            "val Loss: 0.7577 Acc: 0.7567\n",
            "\n",
            "Epoch 2/29\n",
            "----------\n",
            "train Loss: 0.6780 Acc: 0.7956\n",
            "val Loss: 0.7229 Acc: 0.7714\n",
            "\n",
            "Epoch 3/29\n",
            "----------\n",
            "train Loss: 0.5549 Acc: 0.8324\n",
            "val Loss: 0.7495 Acc: 0.7687\n",
            "\n",
            "Epoch 4/29\n",
            "----------\n",
            "train Loss: 0.4654 Acc: 0.8593\n",
            "val Loss: 0.7526 Acc: 0.7762\n",
            "\n",
            "Epoch 5/29\n",
            "----------\n",
            "train Loss: 0.3945 Acc: 0.8820\n",
            "val Loss: 0.7655 Acc: 0.7850\n",
            "\n",
            "Epoch 6/29\n",
            "----------\n",
            "train Loss: 0.3323 Acc: 0.9044\n",
            "val Loss: 0.7982 Acc: 0.7805\n",
            "\n",
            "Epoch 7/29\n",
            "----------\n",
            "train Loss: 0.2783 Acc: 0.9197\n",
            "val Loss: 0.8512 Acc: 0.7848\n",
            "\n",
            "Epoch 8/29\n",
            "----------\n",
            "train Loss: 0.2361 Acc: 0.9329\n",
            "val Loss: 0.8664 Acc: 0.7889\n",
            "\n",
            "Epoch 9/29\n",
            "----------\n",
            "train Loss: 0.1950 Acc: 0.9447\n",
            "val Loss: 0.8868 Acc: 0.7887\n",
            "\n",
            "Epoch 10/29\n",
            "----------\n",
            "train Loss: 0.1716 Acc: 0.9510\n",
            "val Loss: 0.9275 Acc: 0.7907\n",
            "\n",
            "Epoch 11/29\n",
            "----------\n",
            "train Loss: 0.1519 Acc: 0.9570\n",
            "val Loss: 0.9623 Acc: 0.7862\n",
            "\n",
            "Epoch 12/29\n",
            "----------\n",
            "train Loss: 0.1373 Acc: 0.9627\n",
            "val Loss: 1.0527 Acc: 0.7780\n",
            "\n",
            "Epoch 13/29\n",
            "----------\n",
            "train Loss: 0.1214 Acc: 0.9669\n",
            "val Loss: 1.0705 Acc: 0.7850\n",
            "\n",
            "Epoch 14/29\n",
            "----------\n",
            "train Loss: 0.1065 Acc: 0.9715\n",
            "val Loss: 1.0074 Acc: 0.7865\n",
            "\n",
            "Epoch 15/29\n",
            "----------\n",
            "train Loss: 0.0913 Acc: 0.9744\n",
            "val Loss: 1.1640 Acc: 0.7866\n",
            "\n",
            "Epoch 16/29\n",
            "----------\n",
            "train Loss: 0.0971 Acc: 0.9749\n",
            "val Loss: 0.9619 Acc: 0.7882\n",
            "\n",
            "Epoch 17/29\n",
            "----------\n",
            "train Loss: 0.0861 Acc: 0.9770\n",
            "val Loss: 1.1417 Acc: 0.7865\n",
            "\n",
            "Epoch 18/29\n",
            "----------\n",
            "train Loss: 0.0762 Acc: 0.9806\n",
            "val Loss: 1.1427 Acc: 0.7883\n",
            "\n",
            "Epoch 19/29\n",
            "----------\n",
            "train Loss: 0.0696 Acc: 0.9820\n",
            "val Loss: 1.1916 Acc: 0.7831\n",
            "\n",
            "Epoch 20/29\n",
            "----------\n",
            "train Loss: 0.0682 Acc: 0.9817\n",
            "val Loss: 1.1670 Acc: 0.7833\n",
            "\n",
            "Epoch 21/29\n",
            "----------\n",
            "train Loss: 0.0630 Acc: 0.9830\n",
            "val Loss: 1.1674 Acc: 0.7884\n",
            "\n",
            "Epoch 22/29\n",
            "----------\n",
            "train Loss: 0.0634 Acc: 0.9844\n",
            "val Loss: 1.1244 Acc: 0.7876\n",
            "\n",
            "Epoch 23/29\n",
            "----------\n",
            "train Loss: 0.0619 Acc: 0.9840\n",
            "val Loss: 1.2301 Acc: 0.7847\n",
            "\n",
            "Epoch 24/29\n",
            "----------\n",
            "train Loss: 0.0545 Acc: 0.9859\n",
            "val Loss: 1.2746 Acc: 0.7913\n",
            "\n",
            "Epoch 25/29\n",
            "----------\n",
            "train Loss: 0.0439 Acc: 0.9885\n",
            "val Loss: 1.2550 Acc: 0.7906\n",
            "\n",
            "Epoch 26/29\n",
            "----------\n",
            "train Loss: 0.0459 Acc: 0.9880\n",
            "val Loss: 1.3081 Acc: 0.7832\n",
            "\n",
            "Epoch 27/29\n",
            "----------\n",
            "train Loss: 0.0576 Acc: 0.9846\n",
            "val Loss: 1.2845 Acc: 0.7890\n",
            "\n",
            "Epoch 28/29\n",
            "----------\n",
            "train Loss: 0.0465 Acc: 0.9876\n",
            "val Loss: 1.5335 Acc: 0.7771\n",
            "\n",
            "Epoch 29/29\n",
            "----------\n",
            "train Loss: 0.0520 Acc: 0.9873\n",
            "val Loss: 1.2917 Acc: 0.7899\n",
            "\n",
            "Training complete in 8m 21s\n",
            "Best val Acc: 0.791300\n"
          ],
          "name": "stdout"
        }
      ]
    },
    {
      "cell_type": "markdown",
      "metadata": {
        "id": "nD17AHDBNQct"
      },
      "source": [
        "#Plotting Graphs"
      ]
    },
    {
      "cell_type": "markdown",
      "metadata": {
        "id": "KwLnficgWu_7"
      },
      "source": [
        "fig = plt.figure(figsize=(9,5))\n",
        "plt.plot(accuracy3['train'], label='train_acc')\n",
        "plt.plot(accuracy3['val'], label='val_acc')\n",
        "plt.xlabel('Number of Epochs')\n",
        "plt.ylabel('Accuracy')\n",
        "plt.legend()"
      ]
    },
    {
      "cell_type": "code",
      "metadata": {
        "colab": {
          "base_uri": "https://localhost:8080/",
          "height": 353
        },
        "id": "eleT6FAUWu2d",
        "outputId": "7bf27800-46c9-4dc0-9f74-bcc80dd0fd29"
      },
      "source": [
        "fig = plt.figure(figsize=(9,5))\n",
        "plt.plot(loss3['train'], label='train_loss')\n",
        "plt.plot(loss3['val'], label='val_loss')\n",
        "plt.xlabel('Epochs')\n",
        "plt.ylabel('Loss')\n",
        "plt.legend()"
      ],
      "execution_count": null,
      "outputs": [
        {
          "output_type": "execute_result",
          "data": {
            "text/plain": [
              "<matplotlib.legend.Legend at 0x7f49c1e5feb8>"
            ]
          },
          "metadata": {
            "tags": []
          },
          "execution_count": 98
        },
        {
          "output_type": "display_data",
          "data": {
            "image/png": "[encoded data removed]",
            "text/plain": [
              "<Figure size 648x360 with 1 Axes>"
            ]
          },
          "metadata": {
            "tags": []
          }
        }
      ]
    },
    {
      "cell_type": "code",
      "metadata": {
        "colab": {
          "base_uri": "https://localhost:8080/"
        },
        "id": "qogeBxYRY0gz",
        "outputId": "e5d5f579-109e-4db7-cd08-d0b6bb219438"
      },
      "source": [
        "_, acc_train3 = evaluate(model3, 'train')\n",
        "_, acc_val3 = evaluate(model3, 'val')\n",
        "_, acc_test3 = evaluate(model3, 'test')\n",
        "\n",
        "print('Training  Accuracy:   %.3f' % acc_train3)\n",
        "print('Validation Accuracy:  %.3f' % acc_val3)\n",
        "print('Testing Accuracy:     %.3f' % acc_test3)"
      ],
      "execution_count": null,
      "outputs": [
        {
          "output_type": "stream",
          "text": [
            "Training  Accuracy:   0.995\n",
            "Validation Accuracy:  0.791\n",
            "Testing Accuracy:     0.792\n"
          ],
          "name": "stdout"
        }
      ]
    },
    {
      "cell_type": "markdown",
      "metadata": {
        "id": "yJXn2M4o29Oi"
      },
      "source": [
        "# Comparison of the best version of the three finetuning methods\n"
      ]
    },
    {
      "cell_type": "code",
      "metadata": {
        "colab": {
          "base_uri": "https://localhost:8080/",
          "height": 367
        },
        "id": "hWXcNG3E_gJo",
        "outputId": "384129e6-dc06-4efa-deab-5df3464e19ab"
      },
      "source": [
        "fig = plt.figure(figsize=(9,5))\n",
        "plt.plot(accuracy1['train'], 'b', label='pretrained = false')\n",
        "plt.plot(accuracy_conv['train'][0:30], 'g',label='pretrained with config 1')\n",
        "plt.plot(accuracy3['train'], 'r',label='pretrained with config 2')\n",
        "\n",
        "plt.xlabel('Epochs')\n",
        "plt.ylabel('Training Accuracy')\n",
        "plt.title('Comparison between 2 configurations after freezing 7 layers')\n",
        "plt.legend()"
      ],
      "execution_count": null,
      "outputs": [
        {
          "output_type": "execute_result",
          "data": {
            "text/plain": [
              "<matplotlib.legend.Legend at 0x7f49c1d78710>"
            ]
          },
          "metadata": {
            "tags": []
          },
          "execution_count": 106
        },
        {
          "output_type": "display_data",
          "data": {
            "image/png": "[encoded data removed]",
            "text/plain": [
              "<Figure size 648x360 with 1 Axes>"
            ]
          },
          "metadata": {
            "tags": []
          }
        }
      ]
    },
    {
      "cell_type": "code",
      "metadata": {
        "colab": {
          "base_uri": "https://localhost:8080/",
          "height": 367
        },
        "id": "aZ0OJXvZAFNa",
        "outputId": "8069c4c7-6f29-427a-94d4-272423cbd69c"
      },
      "source": [
        "fig = plt.figure(figsize=(9,5))\n",
        "plt.plot(loss1['train'], 'b', label='pretrained = false')\n",
        "plt.plot(loss_conv['train'][0:30], 'g',label='pretrained with config 1')\n",
        "plt.plot(loss3['train'], 'r',label='pretrained with config 2')\n",
        "plt.xlabel('Epochs')\n",
        "plt.ylabel('Training Loss')\n",
        "plt.title('Comparison between 2 configurations after freezing 7 layers')\n",
        "plt.legend()"
      ],
      "execution_count": null,
      "outputs": [
        {
          "output_type": "execute_result",
          "data": {
            "text/plain": [
              "<matplotlib.legend.Legend at 0x7f49c1cb59b0>"
            ]
          },
          "metadata": {
            "tags": []
          },
          "execution_count": 107
        },
        {
          "output_type": "display_data",
          "data": {
            "image/png": "[encoded data removed]",
            "text/plain": [
              "<Figure size 648x360 with 1 Axes>"
            ]
          },
          "metadata": {
            "tags": []
          }
        }
      ]
    },
    {
      "cell_type": "code",
      "metadata": {
        "colab": {
          "base_uri": "https://localhost:8080/",
          "height": 367
        },
        "id": "PVvLWaJ0YkHh",
        "outputId": "cb46e46c-bece-437a-8904-6d8a39792afb"
      },
      "source": [
        "fig = plt.figure(figsize=(9,5))\n",
        "plt.plot(accuracy1['train'], 'b', label='pretrained = false')\n",
        "plt.plot(accuracy_ft['train'][0:30], 'g',label='pretrained with all flexible weights')\n",
        "plt.plot(accuracy_conv['train'], 'r',label='pretrained with config 1')\n",
        "plt.xlabel('Epochs')\n",
        "plt.ylabel('Training Accuracy')\n",
        "plt.title('Comparison between different models')\n",
        "plt.legend()"
      ],
      "execution_count": null,
      "outputs": [
        {
          "output_type": "execute_result",
          "data": {
            "text/plain": [
              "<matplotlib.legend.Legend at 0x7f48fa555668>"
            ]
          },
          "metadata": {
            "tags": []
          },
          "execution_count": 102
        },
        {
          "output_type": "display_data",
          "data": {
            "image/png": "[encoded data removed]",
            "text/plain": [
              "<Figure size 648x360 with 1 Axes>"
            ]
          },
          "metadata": {
            "tags": []
          }
        }
      ]
    },
    {
      "cell_type": "code",
      "metadata": {
        "colab": {
          "base_uri": "https://localhost:8080/",
          "height": 367
        },
        "id": "I3SXv1SE3web",
        "outputId": "974a439f-33d7-4b36-d9b5-99ffc6d03d4b"
      },
      "source": [
        "fig = plt.figure(figsize=(9,5))\n",
        "plt.plot(loss1['train'], 'b', label='pretrained = false')\n",
        "plt.plot(loss_ft['train'][0:30], 'g',label='pretrained with all flexible weights')\n",
        "plt.plot(loss_conv['train'], 'r',label='pretrained with config 1')\n",
        "plt.xlabel('Epochs')\n",
        "plt.ylabel('Training Loss')\n",
        "plt.title('Comparison between different models')\n",
        "plt.legend()"
      ],
      "execution_count": null,
      "outputs": [
        {
          "output_type": "execute_result",
          "data": {
            "text/plain": [
              "<matplotlib.legend.Legend at 0x7f49c90c6d68>"
            ]
          },
          "metadata": {
            "tags": []
          },
          "execution_count": 105
        },
        {
          "output_type": "display_data",
          "data": {
            "image/png": "[encoded data removed]",
            "text/plain": [
              "<Figure size 648x360 with 1 Axes>"
            ]
          },
          "metadata": {
            "tags": []
          }
        }
      ]
    },
    {
      "cell_type": "markdown",
      "metadata": {
        "id": "eQ-Gkbqhi-WL"
      },
      "source": [
        "#Acknowledgement\n",
        "There are few parts of the assignment where we discussed some aspects with another group (Raghav Gupta and Prakhar Kanchan). This was on a collaborative level, such as sending some links to resources, PyTorch tutorials and some debugging tips. The collaboration was strictly limited to what is permitted in other EE and CSE dept. assignment courses. In no way have copied, cheated or violated the code of conduct."
      ]
    },
    {
      "cell_type": "code",
      "metadata": {
        "id": "GDHuWZG46GHC"
      },
      "source": [
        "\n"
      ],
      "execution_count": null,
      "outputs": []
    },
    {
      "cell_type": "code",
      "metadata": {
        "id": "m7qEJAI6M4qN"
      },
      "source": [
        ""
      ],
      "execution_count": null,
      "outputs": []
    }
  ]
}